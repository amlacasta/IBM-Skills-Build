{
 "cells": [
  {
   "cell_type": "markdown",
   "id": "75223e81-72fd-411b-8e6f-be5192ba5549",
   "metadata": {},
   "source": [
    "# **Data Science Tools and Ecosytsems**"
   ]
  },
  {
   "cell_type": "markdown",
   "id": "cc4ed848-7841-44b7-8f1c-eab5f5672374",
   "metadata": {},
   "source": [
    "**In this notebook, Data Science Tools and Ecosystem are summarized.**"
   ]
  },
  {
   "cell_type": "markdown",
   "id": "4996586c-32d2-4c17-8769-879909166c40",
   "metadata": {},
   "source": [
    "**Objectives**\n",
    "- List popular languages for Data Science\n",
    "- Practice in a web environment\n",
    "- How to run, delete and insert a code cell in Jupyter notebooks\n",
    "- How to present a notebook using a combination of Markdown and code cells\n",
    "- Jupyter Notebooks are compatible with many Data Science files and languages.\n",
    "- Jupyter notebooks are used in Data Science to record experiments and projects."
   ]
  },
  {
   "cell_type": "markdown",
   "id": "0951eaf5-5c8d-44c9-a189-a8af097fa08b",
   "metadata": {},
   "source": [
    "*Some of the popular languages that Data Scientists use are:*\n",
    "````\n",
    "1 Python\n",
    "2 R\n",
    "3 Java\n",
    "````"
   ]
  },
  {
   "cell_type": "markdown",
   "id": "fe57732c-db8f-4257-878a-6e25486357c9",
   "metadata": {},
   "source": [
    "*Some of the commonly used libraries used by Data Scientists include:*\n",
    "```\n",
    "1 Pandas\n",
    "2 NumPy\n",
    "3 Mathplotlib\n",
    "```"
   ]
  },
  {
   "cell_type": "markdown",
   "id": "360aee2d-d160-4418-b8cf-f1fdccc54cd2",
   "metadata": {},
   "source": [
    "|*Data Science Tools*|\n",
    "|-------------------|\n",
    "|- MySQL|\n",
    "|- Apache AirFlow|\n",
    "|- Tensor Flow|"
   ]
  },
  {
   "cell_type": "markdown",
   "id": "32593d3d-c970-48ca-a035-94608a067d57",
   "metadata": {},
   "source": [
    "### **Below are a few examples of evaluating arithmetic expressions in Python**\n",
    "\n"
   ]
  },
  {
   "cell_type": "markdown",
   "id": "b13e316b-9249-4fd1-921f-4b167f7af908",
   "metadata": {},
   "source": [
    "*This a simple arithmetic expression to mutiply then add integers*"
   ]
  },
  {
   "cell_type": "code",
   "execution_count": 18,
   "id": "62ebe887-166e-4219-b632-5be88017e87d",
   "metadata": {},
   "outputs": [
    {
     "data": {
      "text/plain": [
       "17"
      ]
     },
     "execution_count": 18,
     "metadata": {},
     "output_type": "execute_result"
    }
   ],
   "source": [
    "(3*4)+5"
   ]
  },
  {
   "cell_type": "markdown",
   "id": "032ac342-8baf-4e4f-abf9-3e1fb6d9a1be",
   "metadata": {},
   "source": [
    "*This will convert 200 minutes to hours by diving by 60*"
   ]
  },
  {
   "cell_type": "code",
   "execution_count": 21,
   "id": "b956875c-a13e-4cb5-bd13-4f7808a9d23f",
   "metadata": {},
   "outputs": [
    {
     "data": {
      "text/plain": [
       "3.3333333333333335"
      ]
     },
     "execution_count": 21,
     "metadata": {},
     "output_type": "execute_result"
    }
   ],
   "source": [
    "(200/60)"
   ]
  },
  {
   "cell_type": "markdown",
   "id": "48fb8b5f-c415-4969-8026-18ad5145dbe1",
   "metadata": {},
   "source": [
    "## Author\n",
    "\n",
    "Álvaro Martínez Lacasta"
   ]
  }
 ],
 "metadata": {
  "kernelspec": {
   "display_name": "Python 3 (ipykernel)",
   "language": "python",
   "name": "python3"
  },
  "language_info": {
   "codemirror_mode": {
    "name": "ipython",
    "version": 3
   },
   "file_extension": ".py",
   "mimetype": "text/x-python",
   "name": "python",
   "nbconvert_exporter": "python",
   "pygments_lexer": "ipython3",
   "version": "3.12.4"
  }
 },
 "nbformat": 4,
 "nbformat_minor": 5
}
